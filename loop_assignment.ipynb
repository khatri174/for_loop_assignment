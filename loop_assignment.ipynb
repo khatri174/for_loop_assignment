{
 "cells": [
  {
   "cell_type": "markdown",
   "id": "6fa0f3b2-1124-4515-8e44-fc63d05b9f81",
   "metadata": {},
   "source": [
    "# Question 1: Write a Python program to print all the numbers from 1 to 10 using a for loop."
   ]
  },
  {
   "cell_type": "code",
   "execution_count": 7,
   "id": "f4e2930a-aa47-43fb-9898-396e10620fcd",
   "metadata": {},
   "outputs": [
    {
     "name": "stdout",
     "output_type": "stream",
     "text": [
      "1\n",
      "2\n",
      "3\n",
      "4\n",
      "5\n",
      "6\n",
      "7\n",
      "8\n",
      "9\n",
      "10\n"
     ]
    }
   ],
   "source": [
    "for i in range(1,11):\n",
    "    print(i)"
   ]
  },
  {
   "cell_type": "markdown",
   "id": "be2da3db-8d52-477a-937e-e9cc9cb53ef6",
   "metadata": {},
   "source": [
    "# Question 2: Write a Python program to find the sum of all numbers from 1 to 100 using a for loop."
   ]
  },
  {
   "cell_type": "code",
   "execution_count": 12,
   "id": "3a13ca8c-070b-47ee-befc-073293271229",
   "metadata": {},
   "outputs": [
    {
     "name": "stdout",
     "output_type": "stream",
     "text": [
      "5050\n"
     ]
    }
   ],
   "source": [
    "sum = 0\n",
    "for i in range(1,101):\n",
    "    sum += i\n",
    "print(sum)    "
   ]
  },
  {
   "cell_type": "markdown",
   "id": "21f148b5-2042-49f1-856d-e9b1097cd971",
   "metadata": {},
   "source": [
    "# Question 3: Write a Python program to print the multiplication table of a given number using a for loop. "
   ]
  },
  {
   "cell_type": "code",
   "execution_count": 21,
   "id": "4493c261-455d-4f0e-8c73-51e4d86a1f48",
   "metadata": {},
   "outputs": [
    {
     "name": "stdin",
     "output_type": "stream",
     "text": [
      "enter any number 15\n"
     ]
    },
    {
     "name": "stdout",
     "output_type": "stream",
     "text": [
      "15 * 1 = 15\n",
      "15 * 2 = 30\n",
      "15 * 3 = 45\n",
      "15 * 4 = 60\n",
      "15 * 5 = 75\n",
      "15 * 6 = 90\n",
      "15 * 7 = 105\n",
      "15 * 8 = 120\n",
      "15 * 9 = 135\n",
      "15 * 10 = 150\n"
     ]
    }
   ],
   "source": [
    "number = int(input(\"enter any number\"))\n",
    "for i in range(1,11):\n",
    "    print(f\"{number} * {i} = {number * i}\")"
   ]
  },
  {
   "cell_type": "markdown",
   "id": "f01354d7-e910-47f0-847a-22ccae43f152",
   "metadata": {},
   "source": [
    "# Question 4: Write a Python program to count the number of even and odd numbers from a series of numbers using a for loop"
   ]
  },
  {
   "cell_type": "code",
   "execution_count": 26,
   "id": "a8b6ded6-778e-4370-a2c3-7365d7516d34",
   "metadata": {},
   "outputs": [
    {
     "name": "stdout",
     "output_type": "stream",
     "text": [
      " total even numbers in series = 6\n",
      " total odd numbers in series = 4\n"
     ]
    }
   ],
   "source": [
    "series = [1,2,3,4,5,6,72,8,9,10]\n",
    "count_even = 0\n",
    "count_odd = 0\n",
    "\n",
    "for num in series:\n",
    "    if num % 2 == 0:\n",
    "        count_even += 1\n",
    "    else:\n",
    "        count_odd += 1\n",
    "\n",
    "print(f\" total even numbers in series = {count_even}\")\n",
    "print(f\" total odd numbers in series = {count_odd}\")"
   ]
  },
  {
   "cell_type": "markdown",
   "id": "fe1ebb10-9de8-4d45-ab37-c70a84b748d4",
   "metadata": {},
   "source": [
    "# Question 5: Write a Python program to find the factorial of a number using a for loop"
   ]
  },
  {
   "cell_type": "code",
   "execution_count": 35,
   "id": "755ece32-d4a2-47d2-ae25-41f6381b841d",
   "metadata": {},
   "outputs": [
    {
     "name": "stdin",
     "output_type": "stream",
     "text": [
      "enter a number 10\n"
     ]
    },
    {
     "name": "stdout",
     "output_type": "stream",
     "text": [
      "3628800\n"
     ]
    }
   ],
   "source": [
    "number = int(input(\"enter a number\"))\n",
    "factorial = number\n",
    "for i in range(1,number):\n",
    "    factorial = factorial * (number - i)\n",
    "print(factorial)    "
   ]
  },
  {
   "cell_type": "markdown",
   "id": "620e3f16-c6c4-420f-9ea0-adb60b18d5b1",
   "metadata": {},
   "source": [
    "# Question 6: Write a Python program to print the Fibonacci sequence up to a specified number using a for loop"
   ]
  },
  {
   "cell_type": "code",
   "execution_count": 44,
   "id": "06f34eb6-bf2d-4e4a-b74e-96ae5db261ff",
   "metadata": {},
   "outputs": [
    {
     "name": "stdin",
     "output_type": "stream",
     "text": [
      "enter number of terms : 5\n"
     ]
    },
    {
     "name": "stdout",
     "output_type": "stream",
     "text": [
      "0\n",
      "1\n",
      "1\n",
      "2\n",
      "3\n"
     ]
    }
   ],
   "source": [
    "number = int(input(\"enter number of terms :\"))\n",
    "a = 0\n",
    "b = 1\n",
    "for i in range(number):\n",
    "    if i == 0:\n",
    "        print(a)\n",
    "    elif i == 1:\n",
    "        print(b)\n",
    "    else :\n",
    "        c = a + b\n",
    "        print(c)\n",
    "        a = b\n",
    "        b = c\n",
    "    "
   ]
  },
  {
   "cell_type": "markdown",
   "id": "3daacdf1-9990-4dfc-a343-d60f7bad5653",
   "metadata": {},
   "source": [
    "# Question 7: Write a Python program to check if a given number is prime or not using a for loop."
   ]
  },
  {
   "cell_type": "code",
   "execution_count": 67,
   "id": "73545dfd-3cd5-4540-a9bb-7227830d2ca7",
   "metadata": {},
   "outputs": [
    {
     "name": "stdin",
     "output_type": "stream",
     "text": [
      "enter a number 1\n"
     ]
    },
    {
     "name": "stdout",
     "output_type": "stream",
     "text": [
      "prime number\n"
     ]
    }
   ],
   "source": [
    "number = int(input(\"enter a number\"))\n",
    "\n",
    "for i in range(2,number):\n",
    "    if number % i == 0:\n",
    "        print(\"not prime \")\n",
    "        break\n",
    "else :\n",
    "    print(\"prime number\")"
   ]
  },
  {
   "cell_type": "markdown",
   "id": "656e394d-4cff-4037-8249-433575de0fee",
   "metadata": {},
   "source": [
    "# Question 8: Write a Python program to find the largest element in a list using a for loop."
   ]
  },
  {
   "cell_type": "code",
   "execution_count": 72,
   "id": "20f9c3df-c198-40c1-87d6-dd2ab584295f",
   "metadata": {},
   "outputs": [
    {
     "name": "stdout",
     "output_type": "stream",
     "text": [
      "73\n"
     ]
    }
   ],
   "source": [
    "list = [1,2,53,73,45,67,32]\n",
    "\n",
    "largest = 0\n",
    "for i in list:\n",
    "    if largest < i:\n",
    "        largest = i\n",
    "print(largest)        "
   ]
  },
  {
   "cell_type": "markdown",
   "id": "2bdf0601-cf86-49c9-97df-700201afee32",
   "metadata": {},
   "source": [
    "# Question 9: Write a Python program to reverse a given string using a for loop."
   ]
  },
  {
   "cell_type": "code",
   "execution_count": 83,
   "id": "3dea46fb-5120-4b54-b02b-8ed1eef4cf0b",
   "metadata": {},
   "outputs": [
    {
     "name": "stdin",
     "output_type": "stream",
     "text": [
      "Enter a string:  akshay\n"
     ]
    },
    {
     "name": "stdout",
     "output_type": "stream",
     "text": [
      "Reversed string: yahska\n"
     ]
    }
   ],
   "source": [
    "text = input(\"Enter a string: \")\n",
    "rev = \"\"\n",
    "for i in range(len(text)):\n",
    "    rev = text[i] + rev  \n",
    "\n",
    "print(\"Reversed string:\", rev)\n",
    "   "
   ]
  },
  {
   "cell_type": "markdown",
   "id": "cb441f21-4914-4575-9be8-d9f40a33ee95",
   "metadata": {},
   "source": [
    "# Question 10: Write a Python program to find the common elements between two lists using a for loop."
   ]
  },
  {
   "cell_type": "code",
   "execution_count": 86,
   "id": "6cb4a4ca-bbe7-4828-9f3e-a1fb5633e4af",
   "metadata": {},
   "outputs": [
    {
     "name": "stdout",
     "output_type": "stream",
     "text": [
      "4\n",
      "5\n"
     ]
    }
   ],
   "source": [
    "list1 = [1,2,3,4,5]\n",
    "list2 = [4,5,6,7]\n",
    "\n",
    "for i in list1:\n",
    "    for j in list2:\n",
    "        if i == j:\n",
    "            print(i)"
   ]
  },
  {
   "cell_type": "code",
   "execution_count": null,
   "id": "52e3acfd-27f6-4c92-8234-dbbef6ce66e0",
   "metadata": {},
   "outputs": [],
   "source": []
  }
 ],
 "metadata": {
  "kernelspec": {
   "display_name": "Python 3 (ipykernel)",
   "language": "python",
   "name": "python3"
  },
  "language_info": {
   "codemirror_mode": {
    "name": "ipython",
    "version": 3
   },
   "file_extension": ".py",
   "mimetype": "text/x-python",
   "name": "python",
   "nbconvert_exporter": "python",
   "pygments_lexer": "ipython3",
   "version": "3.12.4"
  }
 },
 "nbformat": 4,
 "nbformat_minor": 5
}
